{
 "cells": [
  {
   "cell_type": "code",
   "execution_count": 2,
   "metadata": {},
   "outputs": [],
   "source": [
    "from lxml import html\n",
    "import requests\n",
    "import unicodecsv as csv\n",
    "import argparse"
   ]
  },
  {
   "cell_type": "code",
   "execution_count": 3,
   "metadata": {},
   "outputs": [
    {
     "name": "stderr",
     "output_type": "stream",
     "text": [
      "usage: ipykernel_launcher.py [-h] zipcode [sort]\n",
      "ipykernel_launcher.py: error: unrecognized arguments: -f\n"
     ]
    },
    {
     "ename": "SystemExit",
     "evalue": "2",
     "output_type": "error",
     "traceback": [
      "An exception has occurred, use %tb to see the full traceback.\n",
      "\u001b[0;31mSystemExit\u001b[0m\u001b[0;31m:\u001b[0m 2\n"
     ]
    },
    {
     "name": "stderr",
     "output_type": "stream",
     "text": [
      "/usr/local/lib/python3.6/site-packages/IPython/core/interactiveshell.py:2971: UserWarning: To exit: use 'exit', 'quit', or Ctrl-D.\n",
      "  warn(\"To exit: use 'exit', 'quit', or Ctrl-D.\", stacklevel=1)\n"
     ]
    }
   ],
   "source": [
    "def parse(zipcode,filter=None):\n",
    "\n",
    "    if filter==\"newest\":\n",
    "        url = \"https://www.zillow.com/homes/for_sale/{0}/0_singlestory/days_sort\".format(zipcode)\n",
    "    elif filter == \"cheapest\":\n",
    "        url = \"https://www.zillow.com/homes/for_sale/{0}/0_singlestory/pricea_sort/\".format(zipcode)\n",
    "    else:\n",
    "        url = \"https://www.zillow.com/homes/for_sale/{0}_rb/?fromHomePage=true&shouldFireSellPageImplicitClaimGA=false&fromHomePageTab=buy\".format(zipcode)\n",
    "\n",
    "    for i in range(5):\n",
    "    # try:\n",
    "        headers= {\n",
    "        'accept':'text/html,application/xhtml+xml,application/xml;q=0.9,image/webp,*/*;q=0.8',\n",
    "        'accept-encoding':'gzip, deflate, sdch, br',\n",
    "        'accept-language':'en-GB,en;q=0.8,en-US;q=0.6,ml;q=0.4',\n",
    "        'cache-control':'max-age=0',\n",
    "        'upgrade-insecure-requests':'1',\n",
    "        'user-agent':'Mozilla/5.0 (X11; Linux x86_64) AppleWebKit/537.36 (KHTML, like Gecko) Chrome/56.0.2924.87 Safari/537.36'\n",
    "    }\n",
    "        response = requests.get(url,headers=headers)\n",
    "        print(response.status_code)\n",
    "        parser = html.fromstring(response.text)\n",
    "        search_results = parser.xpath(\"//div[@id='search-results']//article\")\n",
    "        properties_list = []\n",
    "\n",
    "        for properties in search_results:\n",
    "            raw_address = properties.xpath(\".//span[@itemprop='address']//span[@itemprop='streetAddress']//text()\")\n",
    "            raw_city = properties.xpath(\".//span[@itemprop='address']//span[@itemprop='addressLocality']//text()\")\n",
    "            raw_state= properties.xpath(\".//span[@itemprop='address']//span[@itemprop='addressRegion']//text()\")\n",
    "            raw_postal_code= properties.xpath(\".//span[@itemprop='address']//span[@itemprop='postalCode']//text()\")\n",
    "            raw_price = properties.xpath(\".//span[@class='zsg-photo-card-price']//text()\")\n",
    "            raw_info = properties.xpath(\".//span[@class='zsg-photo-card-info']//text()\")\n",
    "            raw_broker_name = properties.xpath(\".//span[@class='zsg-photo-card-broker-name']//text()\")\n",
    "            url = properties.xpath(\".//a[contains(@class,'overlay-link')]/@href\")\n",
    "            raw_title = properties.xpath(\".//h4//text()\")\n",
    "\n",
    "            address = ' '.join(' '.join(raw_address).split()) if raw_address else None\n",
    "            city = ''.join(raw_city).strip() if raw_city else None\n",
    "            state = ''.join(raw_state).strip() if raw_state else None\n",
    "            postal_code = ''.join(raw_postal_code).strip() if raw_postal_code else None\n",
    "            price = ''.join(raw_price).strip() if raw_price else None\n",
    "            info = ' '.join(' '.join(raw_info).split()).replace(u\"\\xb7\",',')\n",
    "            broker = ''.join(raw_broker_name).strip() if raw_broker_name else None\n",
    "            title = ''.join(raw_title) if raw_title else None\n",
    "            property_url = \"https://www.zillow.com\"+url[0] if url else None\n",
    "            is_forsale = properties.xpath('.//span[@class=\"zsg-icon-for-sale\"]')\n",
    "            properties = {\n",
    "                            'address':address,\n",
    "                            'city':city,\n",
    "                            'state':state,\n",
    "                            'postal_code':postal_code,\n",
    "                            'price':price,\n",
    "                            'facts and features':info,\n",
    "                            'real estate provider':broker,\n",
    "                            'url':property_url,\n",
    "                            'title':title\n",
    "            }\n",
    "            if is_forsale:\n",
    "                properties_list.append(properties)\n",
    "        return properties_list\n",
    "        # except:\n",
    "        #print (\"Failed to process the page\",url)\n",
    "\n",
    "if __name__==\"__main__\":\n",
    "    argparser = argparse.ArgumentParser(formatter_class=argparse.RawTextHelpFormatter)\n",
    "    argparser.add_argument('zipcode',help = '')\n",
    "    sortorder_help = \"\"\"\n",
    "    available sort orders are :\n",
    "    newest : Latest property details,\n",
    "    cheapest : Properties with cheapest price\n",
    "    \"\"\"\n",
    "    argparser.add_argument('sort',nargs='?',help = sortorder_help,default ='Homes For You')\n",
    "    args = argparser.parse_args()\n",
    "    zipcode = args.zipcode\n",
    "    sort = args.sort\n",
    "    print (\"Fetching data for %s\"%(zipcode))\n",
    "    scraped_data = parse(zipcode,sort)\n",
    "    print (\"Writing data to output file\")\n",
    "    with open(\"properties-%s.csv\"%(zipcode),'wb')as csvfile:\n",
    "        fieldnames = ['title','address','city','state','postal_code','price','facts and features','real estate provider','url']\n",
    "        writer = csv.DictWriter(csvfile, fieldnames=fieldnames)\n",
    "        writer.writeheader()\n",
    "        for row in  scraped_data:\n",
    "            writer.writerow(row)\n",
    "\n",
    "\n",
    "\n",
    "\n",
    "\n",
    "\n"
   ]
  },
  {
   "cell_type": "code",
   "execution_count": 12,
   "metadata": {},
   "outputs": [
    {
     "name": "stdout",
     "output_type": "stream",
     "text": [
      "200\n"
     ]
    },
    {
     "data": {
      "text/plain": [
       "[]"
      ]
     },
     "execution_count": 12,
     "metadata": {},
     "output_type": "execute_result"
    }
   ],
   "source": [
    "parse(11215,\"cheapest\")"
   ]
  },
  {
   "cell_type": "code",
   "execution_count": 4,
   "metadata": {},
   "outputs": [
    {
     "ename": "SystemExit",
     "evalue": "2",
     "output_type": "error",
     "traceback": [
      "\u001b[0;31m---------------------------------------------------------------------------\u001b[0m",
      "\u001b[0;31mSystemExit\u001b[0m                                Traceback (most recent call last)",
      "\u001b[0;32m<ipython-input-3-7650a6ee1108>\u001b[0m in \u001b[0;36m<module>\u001b[0;34m()\u001b[0m\n\u001b[1;32m     71\u001b[0m     \"\"\"\n\u001b[1;32m     72\u001b[0m     \u001b[0margparser\u001b[0m\u001b[0;34m.\u001b[0m\u001b[0madd_argument\u001b[0m\u001b[0;34m(\u001b[0m\u001b[0;34m'sort'\u001b[0m\u001b[0;34m,\u001b[0m\u001b[0mnargs\u001b[0m\u001b[0;34m=\u001b[0m\u001b[0;34m'?'\u001b[0m\u001b[0;34m,\u001b[0m\u001b[0mhelp\u001b[0m \u001b[0;34m=\u001b[0m \u001b[0msortorder_help\u001b[0m\u001b[0;34m,\u001b[0m\u001b[0mdefault\u001b[0m \u001b[0;34m=\u001b[0m\u001b[0;34m'Homes For You'\u001b[0m\u001b[0;34m)\u001b[0m\u001b[0;34m\u001b[0m\u001b[0m\n\u001b[0;32m---> 73\u001b[0;31m     \u001b[0margs\u001b[0m \u001b[0;34m=\u001b[0m \u001b[0margparser\u001b[0m\u001b[0;34m.\u001b[0m\u001b[0mparse_args\u001b[0m\u001b[0;34m(\u001b[0m\u001b[0;34m)\u001b[0m\u001b[0;34m\u001b[0m\u001b[0m\n\u001b[0m\u001b[1;32m     74\u001b[0m     \u001b[0mzipcode\u001b[0m \u001b[0;34m=\u001b[0m \u001b[0margs\u001b[0m\u001b[0;34m.\u001b[0m\u001b[0mzipcode\u001b[0m\u001b[0;34m\u001b[0m\u001b[0m\n\u001b[1;32m     75\u001b[0m     \u001b[0msort\u001b[0m \u001b[0;34m=\u001b[0m \u001b[0margs\u001b[0m\u001b[0;34m.\u001b[0m\u001b[0msort\u001b[0m\u001b[0;34m\u001b[0m\u001b[0m\n",
      "\u001b[0;32m/usr/local/Cellar/python/3.6.5/Frameworks/Python.framework/Versions/3.6/lib/python3.6/argparse.py\u001b[0m in \u001b[0;36mparse_args\u001b[0;34m(self, args, namespace)\u001b[0m\n\u001b[1;32m   1731\u001b[0m         \u001b[0;32mif\u001b[0m \u001b[0margv\u001b[0m\u001b[0;34m:\u001b[0m\u001b[0;34m\u001b[0m\u001b[0m\n\u001b[1;32m   1732\u001b[0m             \u001b[0mmsg\u001b[0m \u001b[0;34m=\u001b[0m \u001b[0m_\u001b[0m\u001b[0;34m(\u001b[0m\u001b[0;34m'unrecognized arguments: %s'\u001b[0m\u001b[0;34m)\u001b[0m\u001b[0;34m\u001b[0m\u001b[0m\n\u001b[0;32m-> 1733\u001b[0;31m             \u001b[0mself\u001b[0m\u001b[0;34m.\u001b[0m\u001b[0merror\u001b[0m\u001b[0;34m(\u001b[0m\u001b[0mmsg\u001b[0m \u001b[0;34m%\u001b[0m \u001b[0;34m' '\u001b[0m\u001b[0;34m.\u001b[0m\u001b[0mjoin\u001b[0m\u001b[0;34m(\u001b[0m\u001b[0margv\u001b[0m\u001b[0;34m)\u001b[0m\u001b[0;34m)\u001b[0m\u001b[0;34m\u001b[0m\u001b[0m\n\u001b[0m\u001b[1;32m   1734\u001b[0m         \u001b[0;32mreturn\u001b[0m \u001b[0margs\u001b[0m\u001b[0;34m\u001b[0m\u001b[0m\n\u001b[1;32m   1735\u001b[0m \u001b[0;34m\u001b[0m\u001b[0m\n",
      "\u001b[0;32m/usr/local/Cellar/python/3.6.5/Frameworks/Python.framework/Versions/3.6/lib/python3.6/argparse.py\u001b[0m in \u001b[0;36merror\u001b[0;34m(self, message)\u001b[0m\n\u001b[1;32m   2387\u001b[0m         \u001b[0mself\u001b[0m\u001b[0;34m.\u001b[0m\u001b[0mprint_usage\u001b[0m\u001b[0;34m(\u001b[0m\u001b[0m_sys\u001b[0m\u001b[0;34m.\u001b[0m\u001b[0mstderr\u001b[0m\u001b[0;34m)\u001b[0m\u001b[0;34m\u001b[0m\u001b[0m\n\u001b[1;32m   2388\u001b[0m         \u001b[0margs\u001b[0m \u001b[0;34m=\u001b[0m \u001b[0;34m{\u001b[0m\u001b[0;34m'prog'\u001b[0m\u001b[0;34m:\u001b[0m \u001b[0mself\u001b[0m\u001b[0;34m.\u001b[0m\u001b[0mprog\u001b[0m\u001b[0;34m,\u001b[0m \u001b[0;34m'message'\u001b[0m\u001b[0;34m:\u001b[0m \u001b[0mmessage\u001b[0m\u001b[0;34m}\u001b[0m\u001b[0;34m\u001b[0m\u001b[0m\n\u001b[0;32m-> 2389\u001b[0;31m         \u001b[0mself\u001b[0m\u001b[0;34m.\u001b[0m\u001b[0mexit\u001b[0m\u001b[0;34m(\u001b[0m\u001b[0;36m2\u001b[0m\u001b[0;34m,\u001b[0m \u001b[0m_\u001b[0m\u001b[0;34m(\u001b[0m\u001b[0;34m'%(prog)s: error: %(message)s\\n'\u001b[0m\u001b[0;34m)\u001b[0m \u001b[0;34m%\u001b[0m \u001b[0margs\u001b[0m\u001b[0;34m)\u001b[0m\u001b[0;34m\u001b[0m\u001b[0m\n\u001b[0m",
      "\u001b[0;32m/usr/local/Cellar/python/3.6.5/Frameworks/Python.framework/Versions/3.6/lib/python3.6/argparse.py\u001b[0m in \u001b[0;36mexit\u001b[0;34m(self, status, message)\u001b[0m\n\u001b[1;32m   2374\u001b[0m         \u001b[0;32mif\u001b[0m \u001b[0mmessage\u001b[0m\u001b[0;34m:\u001b[0m\u001b[0;34m\u001b[0m\u001b[0m\n\u001b[1;32m   2375\u001b[0m             \u001b[0mself\u001b[0m\u001b[0;34m.\u001b[0m\u001b[0m_print_message\u001b[0m\u001b[0;34m(\u001b[0m\u001b[0mmessage\u001b[0m\u001b[0;34m,\u001b[0m \u001b[0m_sys\u001b[0m\u001b[0;34m.\u001b[0m\u001b[0mstderr\u001b[0m\u001b[0;34m)\u001b[0m\u001b[0;34m\u001b[0m\u001b[0m\n\u001b[0;32m-> 2376\u001b[0;31m         \u001b[0m_sys\u001b[0m\u001b[0;34m.\u001b[0m\u001b[0mexit\u001b[0m\u001b[0;34m(\u001b[0m\u001b[0mstatus\u001b[0m\u001b[0;34m)\u001b[0m\u001b[0;34m\u001b[0m\u001b[0m\n\u001b[0m\u001b[1;32m   2377\u001b[0m \u001b[0;34m\u001b[0m\u001b[0m\n\u001b[1;32m   2378\u001b[0m     \u001b[0;32mdef\u001b[0m \u001b[0merror\u001b[0m\u001b[0;34m(\u001b[0m\u001b[0mself\u001b[0m\u001b[0;34m,\u001b[0m \u001b[0mmessage\u001b[0m\u001b[0;34m)\u001b[0m\u001b[0;34m:\u001b[0m\u001b[0;34m\u001b[0m\u001b[0m\n",
      "\u001b[0;31mSystemExit\u001b[0m: 2"
     ]
    }
   ],
   "source": [
    "%tb"
   ]
  },
  {
   "cell_type": "code",
   "execution_count": null,
   "metadata": {},
   "outputs": [],
   "source": []
  }
 ],
 "metadata": {
  "kernelspec": {
   "display_name": "Python 3",
   "language": "python",
   "name": "python3"
  },
  "language_info": {
   "codemirror_mode": {
    "name": "ipython",
    "version": 3
   },
   "file_extension": ".py",
   "mimetype": "text/x-python",
   "name": "python",
   "nbconvert_exporter": "python",
   "pygments_lexer": "ipython3",
   "version": "3.6.5"
  }
 },
 "nbformat": 4,
 "nbformat_minor": 2
}
