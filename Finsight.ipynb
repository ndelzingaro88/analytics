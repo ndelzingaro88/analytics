{
 "cells": [
  {
   "cell_type": "code",
   "execution_count": 62,
   "metadata": {},
   "outputs": [],
   "source": [
    "import requests\n",
    "import pandas as pd "
   ]
  },
  {
   "cell_type": "code",
   "execution_count": 63,
   "metadata": {},
   "outputs": [],
   "source": [
    "def get_recently_priced_deals():\n",
    "  ls = []\n",
    "  for i in range(0,1000):  \n",
    "      api ='https://finsight.com/api/deals/recently-priced/?page={PG}'.format(PG=i)\n",
    "      sector_primary   ='&sector_primary=Esoteric'\n",
    "      sector_secondary ='&sector_secondary=Consumer+%26+Marketplace+Loans'\n",
    "      url = api + sector_primary + sector_secondary\n",
    "      results = requests.get(url).json()['results']\n",
    "      if results:\n",
    "          ls.append(results)\n",
    "      else:\n",
    "          print 'Finished'\n",
    "          break\n",
    "  return ls"
   ]
  },
  {
   "cell_type": "code",
   "execution_count": 64,
   "metadata": {},
   "outputs": [],
   "source": [
    "def get_deal(deal_id):\n",
    "  url = 'https://finsight.com/api/deals/{ID}'.format(ID=deal_id)\n",
    "  r =requests.get(url).json()\n",
    "  return pd.DataFrame(r['tranches'])"
   ]
  },
  {
   "cell_type": "code",
   "execution_count": 65,
   "metadata": {},
   "outputs": [],
   "source": [
    "def delete_nonUniqueRows(df):\n",
    "  # data in these columns are not needed\n",
    "  print '\\nDeleting non-unique rows'\n",
    "  for i in df.columns:\n",
    "      if len(df[i].unique()) == 1:\n",
    "          print 'Deleting',i\n",
    "          del df[i]\n",
    "  return df  "
   ]
  },
  {
   "cell_type": "code",
   "execution_count": 89,
   "metadata": {},
   "outputs": [
    {
     "ename": "IndentationError",
     "evalue": "unexpected indent (<ipython-input-89-fe8c5bbeaa26>, line 12)",
     "output_type": "error",
     "traceback": [
      "\u001b[0;36m  File \u001b[0;32m\"<ipython-input-89-fe8c5bbeaa26>\"\u001b[0;36m, line \u001b[0;32m12\u001b[0m\n\u001b[0;31m    ls.append(df)\u001b[0m\n\u001b[0m    ^\u001b[0m\n\u001b[0;31mIndentationError\u001b[0m\u001b[0;31m:\u001b[0m unexpected indent\n"
     ]
    }
   ],
   "source": [
    "def main():\n",
    "  ls = []\n",
    "  deals = get_recently_priced_deals()\n",
    "  for deal in deals:\n",
    "    for i in deal:\n",
    "      df = get_deal(i['id'])\n",
    "      df['name'] = i['issuer']['company']['name']\n",
    "      df['ticker'] = i['issuer']['ticker']\n",
    "      df['pricing_date'] = i['pricing_date']\n",
    "      print df.set_index(['ticker'])[['pricing_date','class']]\n",
    "      ls.append(df)\n"
   ]
  },
  {
   "cell_type": "code",
   "execution_count": null,
   "metadata": {},
   "outputs": [],
   "source": [
    "if __name__ == '__main__':\n",
    "  main()\n"
   ]
  },
  {
   "cell_type": "code",
   "execution_count": 88,
   "metadata": {},
   "outputs": [
    {
     "ename": "NameError",
     "evalue": "name 'ls' is not defined",
     "output_type": "error",
     "traceback": [
      "\u001b[0;31m---------------------------------------------------------------------------\u001b[0m",
      "\u001b[0;31mNameError\u001b[0m                                 Traceback (most recent call last)",
      "\u001b[0;32m<ipython-input-88-d3360933d101>\u001b[0m in \u001b[0;36m<module>\u001b[0;34m()\u001b[0m\n\u001b[0;32m----> 1\u001b[0;31m \u001b[0mtable\u001b[0m \u001b[0;34m=\u001b[0m \u001b[0mpd\u001b[0m\u001b[0;34m.\u001b[0m\u001b[0mconcat\u001b[0m\u001b[0;34m(\u001b[0m\u001b[0mls\u001b[0m\u001b[0;34m)\u001b[0m\u001b[0;34m\u001b[0m\u001b[0m\n\u001b[0m",
      "\u001b[0;31mNameError\u001b[0m: name 'ls' is not defined"
     ]
    }
   ],
   "source": []
  },
  {
   "cell_type": "code",
   "execution_count": null,
   "metadata": {},
   "outputs": [],
   "source": [
    "\n"
   ]
  },
  {
   "cell_type": "code",
   "execution_count": null,
   "metadata": {},
   "outputs": [],
   "source": []
  }
 ],
 "metadata": {
  "kernelspec": {
   "display_name": "Python 2",
   "language": "python",
   "name": "python2"
  },
  "language_info": {
   "codemirror_mode": {
    "name": "ipython",
    "version": 2
   },
   "file_extension": ".py",
   "mimetype": "text/x-python",
   "name": "python",
   "nbconvert_exporter": "python",
   "pygments_lexer": "ipython2",
   "version": "2.7.13"
  }
 },
 "nbformat": 4,
 "nbformat_minor": 2
}
